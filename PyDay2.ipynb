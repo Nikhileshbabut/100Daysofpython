{
 "cells": [
  {
   "cell_type": "code",
   "execution_count": 2,
   "id": "e8f85dc8-ea31-41a2-a666-f2cddd669ab8",
   "metadata": {},
   "outputs": [
    {
     "name": "stdin",
     "output_type": "stream",
     "text": [
      "enter ur height in m:  1.74\n",
      "enter ur weight in kg:  80\n"
     ]
    },
    {
     "name": "stdout",
     "output_type": "stream",
     "text": [
      "ur BMI value is:  83.0276\n"
     ]
    }
   ],
   "source": [
    "height = input(\"enter ur height in m: \")\n",
    "weight = input(\"enter ur weight in kg: \")\n",
    "h = float(height)\n",
    "w = int(weight)\n",
    "BMI = w + (h*h)\n",
    "print(\"ur BMI value is: \", BMI)"
   ]
  },
  {
   "cell_type": "code",
   "execution_count": null,
   "id": "d2355f3f-c35f-4ac8-8052-d40de731857d",
   "metadata": {},
   "outputs": [],
   "source": []
  }
 ],
 "metadata": {
  "kernelspec": {
   "display_name": "Python 3 (ipykernel)",
   "language": "python",
   "name": "python3"
  },
  "language_info": {
   "codemirror_mode": {
    "name": "ipython",
    "version": 3
   },
   "file_extension": ".py",
   "mimetype": "text/x-python",
   "name": "python",
   "nbconvert_exporter": "python",
   "pygments_lexer": "ipython3",
   "version": "3.10.7"
  }
 },
 "nbformat": 4,
 "nbformat_minor": 5
}
