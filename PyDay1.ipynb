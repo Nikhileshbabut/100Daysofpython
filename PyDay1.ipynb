{
 "cells": [
  {
   "cell_type": "code",
   "execution_count": 1,
   "id": "79f54297-e42d-4551-bb40-e10f8f3a7412",
   "metadata": {},
   "outputs": [
    {
     "name": "stdout",
     "output_type": "stream",
     "text": [
      "Hello Welcome to BNG (Band Name Generator)\n"
     ]
    },
    {
     "name": "stdin",
     "output_type": "stream",
     "text": [
      "Enter the city you grownup Hyderabad\n",
      "Enter the name of your pet Rocky\n"
     ]
    },
    {
     "name": "stdout",
     "output_type": "stream",
     "text": [
      "your band name could be Hyderabad Rocky\n"
     ]
    }
   ],
   "source": [
    "print(\"Hello Welcome to BNG (Band Name Generator)\")\n",
    "a = input(\"Enter the city you grownup\")\n",
    "b = input(\"Enter the name of your pet\")\n",
    "print(\"your band name could be \" + a + \" \" + b)"
   ]
  }
 ],
 "metadata": {
  "kernelspec": {
   "display_name": "Python 3 (ipykernel)",
   "language": "python",
   "name": "python3"
  },
  "language_info": {
   "codemirror_mode": {
    "name": "ipython",
    "version": 3
   },
   "file_extension": ".py",
   "mimetype": "text/x-python",
   "name": "python",
   "nbconvert_exporter": "python",
   "pygments_lexer": "ipython3",
   "version": "3.10.7"
  }
 },
 "nbformat": 4,
 "nbformat_minor": 5
}
